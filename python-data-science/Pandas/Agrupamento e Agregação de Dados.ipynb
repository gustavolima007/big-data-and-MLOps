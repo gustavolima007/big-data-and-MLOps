{
 "cells": [
  {
   "cell_type": "markdown",
   "metadata": {},
   "source": [
    "## Agrupamento e Agregação de Dados\n",
    "\n",
    "#### Para explorar padrões nos dados, a agregação é fundamental. Agrupar dados por uma categoria e calcular uma estatística agregada é uma técnica comum."
   ]
  },
  {
   "cell_type": "code",
   "execution_count": 1,
   "metadata": {},
   "outputs": [
    {
     "name": "stdout",
     "output_type": "stream",
     "text": [
      "Média de idade por cidade:\n",
      "cidade\n",
      "Curitiba     32.0\n",
      "Rio          45.0\n",
      "São Paulo    25.5\n",
      "Name: idade, dtype: float64\n"
     ]
    }
   ],
   "source": [
    "import pandas as pd\n",
    "\n",
    "# Criando um DataFrame de exemplo\n",
    "df = pd.DataFrame({'nome': ['Ana', 'Carlos', 'Maria', 'João'],\n",
    "                   'idade': [23, 45, 32, 28],\n",
    "                   'cidade': ['São Paulo', 'Rio', 'Curitiba', 'São Paulo']})\n",
    "\n",
    "# Agrupando por cidade e calculando a média de idade\n",
    "media_idade_por_cidade = df.groupby('cidade')['idade'].mean()\n",
    "\n",
    "print(\"Média de idade por cidade:\")\n",
    "print(media_idade_por_cidade)"
   ]
  }
 ],
 "metadata": {
  "kernelspec": {
   "display_name": "Python 3",
   "language": "python",
   "name": "python3"
  },
  "language_info": {
   "codemirror_mode": {
    "name": "ipython",
    "version": 3
   },
   "file_extension": ".py",
   "mimetype": "text/x-python",
   "name": "python",
   "nbconvert_exporter": "python",
   "pygments_lexer": "ipython3",
   "version": "3.13.2"
  }
 },
 "nbformat": 4,
 "nbformat_minor": 2
}
