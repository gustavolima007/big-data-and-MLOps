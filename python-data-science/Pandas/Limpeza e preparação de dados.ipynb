{
 "cells": [
  {
   "cell_type": "markdown",
   "metadata": {},
   "source": [
    "## Limpeza e Preparação de Dados (Tratamento de Valores Nulos)\n",
    "\n",
    "\n",
    "#### Em muitas análises de dados, você frequentemente encontrará valores ausentes. O Pandas fornece ferramentas poderosas para lidar com isso."
   ]
  },
  {
   "cell_type": "code",
   "execution_count": 1,
   "metadata": {},
   "outputs": [
    {
     "name": "stdout",
     "output_type": "stream",
     "text": [
      "Original:\n",
      "     nome  idade          cidade\n",
      "0     Ana   23.0       São Paulo\n",
      "1  Carlos   45.0  Rio de Janeiro\n",
      "2   Maria    NaN        Curitiba\n",
      "3    None   30.0            None\n",
      "\n",
      "Após limpar (remover):\n",
      "     nome  idade          cidade\n",
      "0     Ana   23.0       São Paulo\n",
      "1  Carlos   45.0  Rio de Janeiro\n",
      "\n",
      "Após preencher (substituir):\n",
      "     nome      idade          cidade\n",
      "0     Ana  23.000000       São Paulo\n",
      "1  Carlos  45.000000  Rio de Janeiro\n",
      "2   Maria  32.666667        Curitiba\n",
      "3    None  30.000000    Desconhecida\n"
     ]
    }
   ],
   "source": [
    "# Remover ou substituir valores nulos em um DataFrame.\n",
    "\n",
    "import pandas as pd\n",
    "\n",
    "# Criando um DataFrame de exemplo com valores nulos\n",
    "data = {'nome': ['Ana', 'Carlos', 'Maria', None],\n",
    "        'idade': [23, 45, None, 30],\n",
    "        'cidade': ['São Paulo', 'Rio de Janeiro', 'Curitiba', None]}\n",
    "df = pd.DataFrame(data)\n",
    "\n",
    "# Exibindo o DataFrame original\n",
    "print(\"Original:\")\n",
    "print(df)\n",
    "\n",
    "# Remover linhas com qualquer valor nulo\n",
    "df_clean = df.dropna()\n",
    "\n",
    "# Substituindo valores nulos por um valor específico\n",
    "df_filled = df.fillna({'idade': df['idade'].mean(), 'cidade': 'Desconhecida'})\n",
    "\n",
    "print(\"\\nApós limpar (remover):\")\n",
    "print(df_clean)\n",
    "\n",
    "# Ao preencher valores nulos com a média da coluna \"idade\", a média foi calculada com base nas idades existentes\n",
    "print(\"\\nApós preencher (substituir):\")\n",
    "print(df_filled)\n"
   ]
  }
 ],
 "metadata": {
  "kernelspec": {
   "display_name": "Python 3",
   "language": "python",
   "name": "python3"
  },
  "language_info": {
   "codemirror_mode": {
    "name": "ipython",
    "version": 3
   },
   "file_extension": ".py",
   "mimetype": "text/x-python",
   "name": "python",
   "nbconvert_exporter": "python",
   "pygments_lexer": "ipython3",
   "version": "3.13.2"
  }
 },
 "nbformat": 4,
 "nbformat_minor": 2
}
