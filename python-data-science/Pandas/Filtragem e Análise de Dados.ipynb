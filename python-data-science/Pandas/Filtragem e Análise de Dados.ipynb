{
 "cells": [
  {
   "cell_type": "markdown",
   "metadata": {},
   "source": [
    "## Filtragem e Análise de Dados\n",
    "\n",
    "#### Filtrar dados com base em condições específicas é uma operação diária importante para explorar insights."
   ]
  },
  {
   "cell_type": "code",
   "execution_count": 2,
   "metadata": {},
   "outputs": [
    {
     "name": "stdout",
     "output_type": "stream",
     "text": [
      "Clientes acima de 30 anos:\n",
      "     nome  idade    cidade\n",
      "1  Carlos     45       Rio\n",
      "2   Maria     32  Curitiba\n"
     ]
    }
   ],
   "source": [
    "# Selecionar todos os clientes com idade superior a 30 anos.\n",
    "\n",
    "import pandas as pd\n",
    "\n",
    "# Criando um DataFrame de exemplo\n",
    "df = pd.DataFrame({'nome': ['Ana', 'Carlos', 'Maria', 'João'],\n",
    "                   'idade': [23, 45, 32, 28],\n",
    "                   'cidade': ['São Paulo', 'Rio', 'Curitiba', 'São Paulo']})\n",
    "\n",
    "# Filtrando por idade\n",
    "clientes_acima_30 = df[df['idade'] > 30]\n",
    "\n",
    "print(\"Clientes acima de 30 anos:\")\n",
    "print(clientes_acima_30)"
   ]
  }
 ],
 "metadata": {
  "kernelspec": {
   "display_name": "Python 3",
   "language": "python",
   "name": "python3"
  },
  "language_info": {
   "codemirror_mode": {
    "name": "ipython",
    "version": 3
   },
   "file_extension": ".py",
   "mimetype": "text/x-python",
   "name": "python",
   "nbconvert_exporter": "python",
   "pygments_lexer": "ipython3",
   "version": "3.13.2"
  }
 },
 "nbformat": 4,
 "nbformat_minor": 2
}
