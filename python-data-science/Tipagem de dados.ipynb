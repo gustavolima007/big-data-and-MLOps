{
 "cells": [
  {
   "cell_type": "code",
   "execution_count": null,
   "metadata": {},
   "outputs": [],
   "source": [
    "import pandas as pd\n",
    "teste_02 = dw_vendas_gcp.copy()\n",
    "\n",
    "# Conversões de tipo\n",
    "teste_02[\"DATA\"] = pd.to_datetime(teste_02[\"DATA\"])\n",
    "teste_02[\"DIA_DA_SEMANA\"] = teste_02[\"DIA_DA_SEMANA\"].astype(int)\n",
    "teste_02[\"NROEMPRESA\"] = teste_02[\"NROEMPRESA\"].astype(float).astype(int)  # Primeiro float, depois int\n",
    "teste_02[\"NRO_SEMANA\"] = teste_02[\"NRO_SEMANA\"].astype(int)\n",
    "teste_02[\"KG\"] = teste_02[\"KG\"].astype(float)\n",
    "teste_02[\"RECEITA_LIQUIDA\"] = teste_02[\"RECEITA_LIQUIDA\"].astype(float)\n",
    "teste_02[\"TICKET\"] = teste_02[\"TICKET\"].astype(float)\n",
    "teste_02[\"UN\"] = teste_02[\"UN\"].astype(float)\n",
    "teste_02[\"VALOR\"] = teste_02[\"VALOR\"].astype(float)"
   ]
  },
  {
   "cell_type": "code",
   "execution_count": null,
   "metadata": {},
   "outputs": [],
   "source": [
    "teste_02[\"KG\"] = teste_02[\"KG\"].astype(float)\n",
    "teste_02[\"UN\"] = teste_02[\"UN\"].astype(float)\n",
    "teste_02[\"VALOR\"] = teste_02[\"VALOR\"].astype(float)"
   ]
  }
 ],
 "metadata": {
  "language_info": {
   "name": "python"
  }
 },
 "nbformat": 4,
 "nbformat_minor": 2
}
